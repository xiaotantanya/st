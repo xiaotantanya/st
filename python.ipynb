{
 "cells": [
  {
   "attachments": {},
   "cell_type": "markdown",
   "metadata": {},
   "source": [
    "### https://zhuanlan.zhihu.com/p/399989820"
   ]
  },
  {
   "cell_type": "code",
   "execution_count": 1,
   "metadata": {},
   "outputs": [],
   "source": [
    "import torch"
   ]
  },
  {
   "cell_type": "code",
   "execution_count": 2,
   "metadata": {},
   "outputs": [],
   "source": [
    "a = torch.tensor([[1,2,3,4],[6,5,4,3]])"
   ]
  },
  {
   "cell_type": "code",
   "execution_count": 7,
   "metadata": {},
   "outputs": [
    {
     "name": "stdout",
     "output_type": "stream",
     "text": [
      "tensor([[6, 5, 4, 4],\n",
      "        [1, 2, 3, 3]])\n"
     ]
    }
   ],
   "source": [
    "value,ind = a.topk(2,dim=0)\n",
    "print(value)"
   ]
  },
  {
   "cell_type": "code",
   "execution_count": 11,
   "metadata": {},
   "outputs": [
    {
     "name": "stdout",
     "output_type": "stream",
     "text": [
      "tensor([[1, 2, 3],\n",
      "        [1, 2, 3],\n",
      "        [1, 2, 3],\n",
      "        [1, 2, 3],\n",
      "        [1, 2, 3],\n",
      "        [1, 2, 3],\n",
      "        [1, 2, 3],\n",
      "        [1, 2, 3],\n",
      "        [1, 2, 3]])\n"
     ]
    }
   ],
   "source": [
    "x = torch.tensor([1,2,3])\n",
    "x = x.expand((9,3))\n",
    "print(x)"
   ]
  },
  {
   "cell_type": "code",
   "execution_count": 12,
   "metadata": {},
   "outputs": [],
   "source": [
    "import copy"
   ]
  },
  {
   "cell_type": "code",
   "execution_count": 15,
   "metadata": {},
   "outputs": [
    {
     "name": "stdout",
     "output_type": "stream",
     "text": [
      "tensor([[1, 2, 3],\n",
      "        [1, 2, 3],\n",
      "        [1, 2, 3]])\n",
      "tensor([[2, 2, 3],\n",
      "        [2, 2, 3],\n",
      "        [2, 2, 3]])\n"
     ]
    }
   ],
   "source": [
    "x = torch.tensor([1,2,3])\n",
    "y = copy.copy(x)\n",
    "z = y.expand((3,3))\n",
    "print(z)\n",
    "x[0]=2\n",
    "print(z)"
   ]
  },
  {
   "cell_type": "code",
   "execution_count": 18,
   "metadata": {},
   "outputs": [
    {
     "name": "stdout",
     "output_type": "stream",
     "text": [
      "tensor([ True,  True, False])\n",
      "tensor([ True, False, False])\n"
     ]
    }
   ],
   "source": [
    "x = torch.tensor([1,2,3])\n",
    "y = torch.tensor([1,2,4])\n",
    "\n",
    "print(x.eq(y))\n",
    "print(x.eq(1))"
   ]
  },
  {
   "cell_type": "code",
   "execution_count": 22,
   "metadata": {},
   "outputs": [
    {
     "name": "stdout",
     "output_type": "stream",
     "text": [
      "tensor([6, 6, 6])\n"
     ]
    }
   ],
   "source": [
    "#torch.sum(input,dim,keepdim=False,*dtype=None)->Tensor\n",
    "x = torch.tensor([1,2,3]).expand((3,3))\n",
    "print(x.sum(dim=1))"
   ]
  },
  {
   "cell_type": "code",
   "execution_count": 27,
   "metadata": {},
   "outputs": [
    {
     "name": "stdout",
     "output_type": "stream",
     "text": [
      "tensor([[[[0.8837, 0.6503, 0.0206, 0.4809],\n",
      "          [0.2218, 0.7487, 0.6825, 0.9631],\n",
      "          [0.2564, 0.8850, 0.8549, 0.4764]],\n",
      "\n",
      "         [[0.2703, 0.8195, 0.3932, 0.6462],\n",
      "          [0.5664, 0.5032, 0.2350, 0.8012],\n",
      "          [0.4549, 0.0221, 0.6972, 0.5634]]]])\n"
     ]
    }
   ],
   "source": [
    "#torch.rand(*size,*,out=None,dtype=None,layout=torch.strided,device=None,requires_grad=False)->Tensor\n",
    "print(torch.rand(1,2,3,4))"
   ]
  },
  {
   "cell_type": "code",
   "execution_count": 28,
   "metadata": {},
   "outputs": [
    {
     "name": "stdout",
     "output_type": "stream",
     "text": [
      "tensor([[[[ 0.9412,  0.6065,  0.0264, -0.2627],\n",
      "          [ 1.0490, -0.6218,  0.1176, -0.6667],\n",
      "          [-1.0559,  0.3967,  0.2323,  0.7668]],\n",
      "\n",
      "         [[-1.3839,  0.3994, -1.4914, -2.3200],\n",
      "          [ 0.2814, -0.8055, -0.3459,  0.7364],\n",
      "          [-0.0469,  0.4708,  1.1432, -0.8745]]]])\n"
     ]
    }
   ],
   "source": [
    "#torch.randn(*size,out=None,dtype=None,layout=torch.strided,device=None,requires_grad=False)->Tensor\n",
    "print(torch.randn(1,2,3,4))"
   ]
  },
  {
   "cell_type": "code",
   "execution_count": null,
   "metadata": {},
   "outputs": [],
   "source": [
    "#torch.randint(low=0,high,size,*,generator=None,out=None,dtype=None,layout=torch.strided,device=None,requires_grad=False)->Tensor\n",
    "print(torch.randint(0,100,(20,20)))"
   ]
  },
  {
   "cell_type": "code",
   "execution_count": 59,
   "metadata": {},
   "outputs": [
    {
     "name": "stdout",
     "output_type": "stream",
     "text": [
      "tensor([2., 2., 2., 2., 2.])\n"
     ]
    }
   ],
   "source": [
    "#Tensor.random_(from_=0,to=None,*,generator=None)->Tensor\n",
    "a = torch.Tensor(5)\n",
    "print(a.random_(2,3))"
   ]
  },
  {
   "cell_type": "code",
   "execution_count": 61,
   "metadata": {},
   "outputs": [
    {
     "name": "stdout",
     "output_type": "stream",
     "text": [
      "tensor([84, 22, 61, 57, 95, 53, 63, 21, 73, 20, 74, 32, 51, 65, 34, 78, 96, 79,\n",
      "        28, 15, 60, 56, 54, 50, 69, 35, 68,  6, 33, 94, 17, 97,  3, 86, 37, 36,\n",
      "        19, 12, 26,  5, 23, 92, 70, 82, 77, 88, 98, 48, 10, 42, 27, 83, 39, 30,\n",
      "        58, 91, 43, 64, 31, 11, 71, 40, 46, 90,  9, 16, 89, 55, 66,  1, 52, 49,\n",
      "        80, 41, 87,  2,  7, 38, 67, 99, 44, 76, 75, 59,  4, 29, 85, 72,  8, 18,\n",
      "        81, 25, 62, 24,  0, 14, 13, 93, 47, 45])\n"
     ]
    }
   ],
   "source": [
    "#torch.randperm(n,*,generator=None,out=None,dtype=torch.int64,layout=torch.strided,device=None,requires_grad=False,pin_memory=False)->Tensor\n",
    "#[0,n) random interger list \n",
    "print(torch.randperm(n=100))"
   ]
  },
  {
   "cell_type": "code",
   "execution_count": 72,
   "metadata": {},
   "outputs": [
    {
     "name": "stdout",
     "output_type": "stream",
     "text": [
      "<class 'torch.Tensor'>\n",
      "1\n",
      "<class 'int'>\n"
     ]
    }
   ],
   "source": [
    "#Tensor.item()→ number\n",
    "#tensor -> list\n",
    "a = torch.tensor(1)\n",
    "print(type(a))\n",
    "print(a.item())\n",
    "print(type(a.item()))"
   ]
  }
 ],
 "metadata": {
  "kernelspec": {
   "display_name": "pytorch10",
   "language": "python",
   "name": "python3"
  },
  "language_info": {
   "codemirror_mode": {
    "name": "ipython",
    "version": 3
   },
   "file_extension": ".py",
   "mimetype": "text/x-python",
   "name": "python",
   "nbconvert_exporter": "python",
   "pygments_lexer": "ipython3",
   "version": "3.9.16"
  },
  "orig_nbformat": 4
 },
 "nbformat": 4,
 "nbformat_minor": 2
}
