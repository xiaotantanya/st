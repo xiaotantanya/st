{
 "cells": [
  {
   "attachments": {},
   "cell_type": "markdown",
   "metadata": {},
   "source": [
    "### https://zhuanlan.zhihu.com/p/399989820"
   ]
  },
  {
   "cell_type": "code",
   "execution_count": 1,
   "metadata": {},
   "outputs": [],
   "source": [
    "import torch"
   ]
  },
  {
   "cell_type": "code",
   "execution_count": 2,
   "metadata": {},
   "outputs": [],
   "source": [
    "a = torch.tensor([[1,2,3,4],[6,5,4,3]])"
   ]
  },
  {
   "cell_type": "code",
   "execution_count": 7,
   "metadata": {},
   "outputs": [
    {
     "name": "stdout",
     "output_type": "stream",
     "text": [
      "tensor([[6, 5, 4, 4],\n",
      "        [1, 2, 3, 3]])\n"
     ]
    }
   ],
   "source": [
    "value,ind = a.topk(2,dim=0)\n",
    "print(value)"
   ]
  },
  {
   "cell_type": "code",
   "execution_count": 11,
   "metadata": {},
   "outputs": [
    {
     "name": "stdout",
     "output_type": "stream",
     "text": [
      "tensor([[1, 2, 3],\n",
      "        [1, 2, 3],\n",
      "        [1, 2, 3],\n",
      "        [1, 2, 3],\n",
      "        [1, 2, 3],\n",
      "        [1, 2, 3],\n",
      "        [1, 2, 3],\n",
      "        [1, 2, 3],\n",
      "        [1, 2, 3]])\n"
     ]
    }
   ],
   "source": [
    "x = torch.tensor([1,2,3])\n",
    "x = x.expand((9,3))\n",
    "print(x)"
   ]
  },
  {
   "cell_type": "code",
   "execution_count": 12,
   "metadata": {},
   "outputs": [],
   "source": [
    "import copy"
   ]
  },
  {
   "cell_type": "code",
   "execution_count": 15,
   "metadata": {},
   "outputs": [
    {
     "name": "stdout",
     "output_type": "stream",
     "text": [
      "tensor([[1, 2, 3],\n",
      "        [1, 2, 3],\n",
      "        [1, 2, 3]])\n",
      "tensor([[2, 2, 3],\n",
      "        [2, 2, 3],\n",
      "        [2, 2, 3]])\n"
     ]
    }
   ],
   "source": [
    "x = torch.tensor([1,2,3])\n",
    "y = copy.copy(x)\n",
    "z = y.expand((3,3))\n",
    "print(z)\n",
    "x[0]=2\n",
    "print(z)"
   ]
  },
  {
   "cell_type": "code",
   "execution_count": 18,
   "metadata": {},
   "outputs": [
    {
     "name": "stdout",
     "output_type": "stream",
     "text": [
      "tensor([ True,  True, False])\n",
      "tensor([ True, False, False])\n"
     ]
    }
   ],
   "source": [
    "x = torch.tensor([1,2,3])\n",
    "y = torch.tensor([1,2,4])\n",
    "\n",
    "print(x.eq(y))\n",
    "print(x.eq(1))"
   ]
  },
  {
   "cell_type": "code",
   "execution_count": 22,
   "metadata": {},
   "outputs": [
    {
     "name": "stdout",
     "output_type": "stream",
     "text": [
      "tensor([6, 6, 6])\n"
     ]
    }
   ],
   "source": [
    "#torch.sum(input,dim,keepdim=False,*dtype=None)->Tensor\n",
    "x = torch.tensor([1,2,3]).expand((3,3))\n",
    "print(x.sum(dim=1))"
   ]
  },
  {
   "cell_type": "code",
   "execution_count": 27,
   "metadata": {},
   "outputs": [
    {
     "name": "stdout",
     "output_type": "stream",
     "text": [
      "tensor([[[[0.8837, 0.6503, 0.0206, 0.4809],\n",
      "          [0.2218, 0.7487, 0.6825, 0.9631],\n",
      "          [0.2564, 0.8850, 0.8549, 0.4764]],\n",
      "\n",
      "         [[0.2703, 0.8195, 0.3932, 0.6462],\n",
      "          [0.5664, 0.5032, 0.2350, 0.8012],\n",
      "          [0.4549, 0.0221, 0.6972, 0.5634]]]])\n"
     ]
    }
   ],
   "source": [
    "#torch.rand(*size,*,out=None,dtype=None,layout=torch.strided,device=None,requires_grad=False)->Tensor\n",
    "print(torch.rand(1,2,3,4))"
   ]
  },
  {
   "cell_type": "code",
   "execution_count": 28,
   "metadata": {},
   "outputs": [
    {
     "name": "stdout",
     "output_type": "stream",
     "text": [
      "tensor([[[[ 0.9412,  0.6065,  0.0264, -0.2627],\n",
      "          [ 1.0490, -0.6218,  0.1176, -0.6667],\n",
      "          [-1.0559,  0.3967,  0.2323,  0.7668]],\n",
      "\n",
      "         [[-1.3839,  0.3994, -1.4914, -2.3200],\n",
      "          [ 0.2814, -0.8055, -0.3459,  0.7364],\n",
      "          [-0.0469,  0.4708,  1.1432, -0.8745]]]])\n"
     ]
    }
   ],
   "source": [
    "#torch.randn(*size,out=None,dtype=None,layout=torch.strided,device=None,requires_grad=False)->Tensor\n",
    "print(torch.randn(1,2,3,4))"
   ]
  },
  {
   "cell_type": "code",
   "execution_count": null,
   "metadata": {},
   "outputs": [],
   "source": [
    "#torch.randint(low=0,high,size,*,generator=None,out=None,dtype=None,layout=torch.strided,device=None,requires_grad=False)->Tensor\n",
    "print(torch.randint(0,100,(20,20)))"
   ]
  },
  {
   "cell_type": "code",
   "execution_count": 59,
   "metadata": {},
   "outputs": [
    {
     "name": "stdout",
     "output_type": "stream",
     "text": [
      "tensor([2., 2., 2., 2., 2.])\n"
     ]
    }
   ],
   "source": [
    "#Tensor.random_(from_=0,to=None,*,generator=None)->Tensor\n",
    "a = torch.Tensor(5)\n",
    "print(a.random_(2,3))"
   ]
  },
  {
   "cell_type": "code",
   "execution_count": 61,
   "metadata": {},
   "outputs": [
    {
     "name": "stdout",
     "output_type": "stream",
     "text": [
      "tensor([84, 22, 61, 57, 95, 53, 63, 21, 73, 20, 74, 32, 51, 65, 34, 78, 96, 79,\n",
      "        28, 15, 60, 56, 54, 50, 69, 35, 68,  6, 33, 94, 17, 97,  3, 86, 37, 36,\n",
      "        19, 12, 26,  5, 23, 92, 70, 82, 77, 88, 98, 48, 10, 42, 27, 83, 39, 30,\n",
      "        58, 91, 43, 64, 31, 11, 71, 40, 46, 90,  9, 16, 89, 55, 66,  1, 52, 49,\n",
      "        80, 41, 87,  2,  7, 38, 67, 99, 44, 76, 75, 59,  4, 29, 85, 72,  8, 18,\n",
      "        81, 25, 62, 24,  0, 14, 13, 93, 47, 45])\n"
     ]
    }
   ],
   "source": [
    "#torch.randperm(n,*,generator=None,out=None,dtype=torch.int64,layout=torch.strided,device=None,requires_grad=False,pin_memory=False)->Tensor\n",
    "#[0,n) random interger list \n",
    "print(torch.randperm(n=100))"
   ]
  },
  {
   "cell_type": "code",
   "execution_count": 72,
   "metadata": {},
   "outputs": [
    {
     "name": "stdout",
     "output_type": "stream",
     "text": [
      "<class 'torch.Tensor'>\n",
      "1\n",
      "<class 'int'>\n"
     ]
    }
   ],
   "source": [
    "#Tensor.item()→ number\n",
    "#tensor -> list\n",
    "a = torch.tensor(1)\n",
    "print(type(a))\n",
    "print(a.item())\n",
    "print(type(a.item()))"
   ]
  },
  {
   "cell_type": "code",
   "execution_count": 1,
   "metadata": {},
   "outputs": [],
   "source": [
    "import torch"
   ]
  },
  {
   "cell_type": "code",
   "execution_count": 3,
   "metadata": {},
   "outputs": [
    {
     "name": "stdout",
     "output_type": "stream",
     "text": [
      "0\n",
      "[1.0, 2.0, 3.0]\n"
     ]
    }
   ],
   "source": [
    "#Tensor.tolist()->list or number\n",
    "a=torch.tensor([0])\n",
    "b=torch.tensor([1.,2.,3.])\n",
    "\n",
    "print(a.item())\n",
    "print(b.tolist())"
   ]
  },
  {
   "cell_type": "code",
   "execution_count": 7,
   "metadata": {},
   "outputs": [
    {
     "name": "stdout",
     "output_type": "stream",
     "text": [
      "[[1 2 3 4]\n",
      " [5 6 7 8]]\n",
      "tensor([[1, 2, 3, 4],\n",
      "        [5, 6, 7, 8]], dtype=torch.int32)\n",
      "[[1 2 3 4]\n",
      " [5 6 7 8]]\n"
     ]
    }
   ],
   "source": [
    "#convert tensro to numpy ndarray or convert numpy darray to tensor\n",
    "#torch.from_numpy(ndarray)->Tensor\n",
    "#Tensor.numpy()->numpy.ndarray\n",
    "\n",
    "import numpy\n",
    "a = numpy.array([[1,2,3,4],[5,6,7,8]])\n",
    "print(a)\n",
    "b = torch.from_numpy(a)\n",
    "print(b)\n",
    "c = b.numpy()\n",
    "print(c)"
   ]
  },
  {
   "cell_type": "code",
   "execution_count": 18,
   "metadata": {},
   "outputs": [
    {
     "name": "stdout",
     "output_type": "stream",
     "text": [
      "torch.Size([4])\n",
      "tensor([1, 2, 3, 4])\n",
      "torch.Size([1, 4])\n",
      "tensor([[1, 2, 3, 4]])\n"
     ]
    }
   ],
   "source": [
    "#torch.unsqueeze(input,dim)->Tensor\n",
    "data = torch.tensor([1,2,3,4])\n",
    "print(data.shape)\n",
    "print(data)\n",
    "a = torch.unsqueeze(data,0)\n",
    "print(a.shape)\n",
    "print(a)"
   ]
  },
  {
   "cell_type": "code",
   "execution_count": 22,
   "metadata": {},
   "outputs": [
    {
     "name": "stdout",
     "output_type": "stream",
     "text": [
      "tensor([[-0.4501, -1.1583,  0.2838]])\n",
      "tensor(-1.1583)\n",
      "tensor([[-1.0459, -0.3659, -0.1460,  0.5526],\n",
      "        [-0.4793,  2.0314,  0.3839,  0.7756],\n",
      "        [-0.3432, -1.6604, -0.8812, -0.2171],\n",
      "        [-0.0135,  0.6585, -0.8677,  0.6161]])\n",
      "torch.return_types.min(\n",
      "values=tensor([-1.0459, -1.6604, -0.8812, -0.2171]),\n",
      "indices=tensor([0, 2, 2, 2]))\n"
     ]
    }
   ],
   "source": [
    "#torch.min(input)->Tensor\n",
    "a = torch.randn(1,3)\n",
    "print(a)\n",
    "print(torch.min(a))\n",
    "b = torch.randn(4,4)\n",
    "print(b)\n",
    "print(torch.min(b,0))\n"
   ]
  },
  {
   "cell_type": "code",
   "execution_count": 23,
   "metadata": {},
   "outputs": [
    {
     "name": "stdout",
     "output_type": "stream",
     "text": [
      "tensor([[1., 2., 3.],\n",
      "        [2., 3., 4.]])\n"
     ]
    }
   ],
   "source": [
    "#torch.minimum(input,other,*,out=None)->Tensor\n",
    "a = torch.Tensor([[1,2,3],[4,5,6]])\n",
    "b = torch.Tensor([2,3,4])\n",
    "print(torch.minimum(a,b))"
   ]
  },
  {
   "cell_type": "code",
   "execution_count": 31,
   "metadata": {},
   "outputs": [
    {
     "name": "stdout",
     "output_type": "stream",
     "text": [
      "tensor([[-0.9356,  0.4523, -0.3366, -0.2000],\n",
      "        [ 1.0888,  0.2242, -0.1008,  0.5859],\n",
      "        [ 0.4888, -0.0846,  0.0971, -0.9161],\n",
      "        [-1.0129, -0.2485,  0.9470, -1.3414]])\n",
      "tensor([3, 3, 0, 3])\n",
      "tensor(15)\n",
      "torch.Size([4])\n"
     ]
    }
   ],
   "source": [
    "#torch.argmin(input,dim=None,keepdim=False)->longTensor\n",
    "a = torch.randn(4,4)\n",
    "print(a)\n",
    "print(torch.argmin(a,dim=0,keepdim=False))\n",
    "print(torch.argmin(a))\n",
    "print(torch.argmin(a,dim=1,keepdim=False).shape)"
   ]
  },
  {
   "cell_type": "code",
   "execution_count": 35,
   "metadata": {},
   "outputs": [
    {
     "name": "stdout",
     "output_type": "stream",
     "text": [
      "tensor([[-2.2864, -1.1619,  0.5453],\n",
      "        [-0.6680,  0.5807, -1.8789]])\n"
     ]
    },
    {
     "data": {
      "text/plain": [
       "tensor([[-2.2864, -1.1619,  0.5453, -2.2864, -1.1619,  0.5453, -2.2864, -1.1619,\n",
       "          0.5453],\n",
       "        [-0.6680,  0.5807, -1.8789, -0.6680,  0.5807, -1.8789, -0.6680,  0.5807,\n",
       "         -1.8789]])"
      ]
     },
     "execution_count": 35,
     "metadata": {},
     "output_type": "execute_result"
    }
   ],
   "source": [
    "#torch.cat(tensors,dim=0,*,out=None)->Tensor\n",
    "x =torch.randn(2,3)\n",
    "print(x)\n",
    "torch.cat((x,x,x),0)\n",
    "torch.cat((x,x,x),1)"
   ]
  },
  {
   "cell_type": "code",
   "execution_count": null,
   "metadata": {},
   "outputs": [],
   "source": []
  }
 ],
 "metadata": {
  "kernelspec": {
   "display_name": "pytorch10",
   "language": "python",
   "name": "python3"
  },
  "language_info": {
   "codemirror_mode": {
    "name": "ipython",
    "version": 3
   },
   "file_extension": ".py",
   "mimetype": "text/x-python",
   "name": "python",
   "nbconvert_exporter": "python",
   "pygments_lexer": "ipython3",
   "version": "3.9.16"
  },
  "orig_nbformat": 4
 },
 "nbformat": 4,
 "nbformat_minor": 2
}
